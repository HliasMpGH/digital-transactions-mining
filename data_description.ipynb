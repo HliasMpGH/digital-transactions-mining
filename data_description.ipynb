{
 "cells": [
  {
   "cell_type": "code",
   "execution_count": 39,
   "metadata": {},
   "outputs": [],
   "source": [
    "import pandas as pd"
   ]
  },
  {
   "cell_type": "code",
   "execution_count": 40,
   "metadata": {},
   "outputs": [
    {
     "name": "stderr",
     "output_type": "stream",
     "text": [
      "C:\\Users\\ilias\\AppData\\Local\\Temp\\ipykernel_27548\\2493614862.py:1: DtypeWarning: Columns (5) have mixed types. Specify dtype option on import or set low_memory=False.\n",
      "  nft = pd.read_csv(\"data_transformation/nft_transactions_2019_2021.csv\", parse_dates=[\"sales_datetime\"])\n"
     ]
    },
    {
     "name": "stdout",
     "output_type": "stream",
     "text": [
      "(5252254, 15)\n"
     ]
    },
    {
     "data": {
      "text/html": [
       "<div>\n",
       "<style scoped>\n",
       "    .dataframe tbody tr th:only-of-type {\n",
       "        vertical-align: middle;\n",
       "    }\n",
       "\n",
       "    .dataframe tbody tr th {\n",
       "        vertical-align: top;\n",
       "    }\n",
       "\n",
       "    .dataframe thead th {\n",
       "        text-align: right;\n",
       "    }\n",
       "</style>\n",
       "<table border=\"1\" class=\"dataframe\">\n",
       "  <thead>\n",
       "    <tr style=\"text-align: right;\">\n",
       "      <th></th>\n",
       "      <th>sales_datetime</th>\n",
       "      <th>id</th>\n",
       "      <th>asset.id</th>\n",
       "      <th>asset.name</th>\n",
       "      <th>asset.collection.name</th>\n",
       "      <th>asset.collection.short_description</th>\n",
       "      <th>asset.permalink</th>\n",
       "      <th>total_price</th>\n",
       "      <th>payment_token.name</th>\n",
       "      <th>payment_token.usd_price</th>\n",
       "      <th>asset.num_sales</th>\n",
       "      <th>seller.address</th>\n",
       "      <th>seller.user.username</th>\n",
       "      <th>winner_account.address</th>\n",
       "      <th>Category</th>\n",
       "    </tr>\n",
       "  </thead>\n",
       "  <tbody>\n",
       "    <tr>\n",
       "      <th>0</th>\n",
       "      <td>2019-01-01 15:48:57</td>\n",
       "      <td>7453402</td>\n",
       "      <td>0</td>\n",
       "      <td>NaN</td>\n",
       "      <td>NaN</td>\n",
       "      <td>NaN</td>\n",
       "      <td>NaN</td>\n",
       "      <td>150000000000000000</td>\n",
       "      <td>Ether</td>\n",
       "      <td>4119.5</td>\n",
       "      <td>0</td>\n",
       "      <td>0xf8856124ea157d6f26472e38224ee6744ad13af3</td>\n",
       "      <td>Farm4Ace</td>\n",
       "      <td>0x7ebc7e83cb2b43deafa82eb0ae8b5daea3fe9a13</td>\n",
       "      <td>Uncategorized</td>\n",
       "    </tr>\n",
       "    <tr>\n",
       "      <th>1</th>\n",
       "      <td>2019-01-01 23:50:55</td>\n",
       "      <td>7461241</td>\n",
       "      <td>0</td>\n",
       "      <td>NaN</td>\n",
       "      <td>NaN</td>\n",
       "      <td>NaN</td>\n",
       "      <td>NaN</td>\n",
       "      <td>120000000000000000</td>\n",
       "      <td>Ether</td>\n",
       "      <td>4119.5</td>\n",
       "      <td>0</td>\n",
       "      <td>0xf29db2342a9dcb1bba4f7f2b1029bdd8ae5c0668</td>\n",
       "      <td>NaN</td>\n",
       "      <td>0x8691271d453022a447320ed82bcb2a30ba949d03</td>\n",
       "      <td>Uncategorized</td>\n",
       "    </tr>\n",
       "    <tr>\n",
       "      <th>2</th>\n",
       "      <td>2019-01-02 16:44:58</td>\n",
       "      <td>7471818</td>\n",
       "      <td>0</td>\n",
       "      <td>NaN</td>\n",
       "      <td>NaN</td>\n",
       "      <td>NaN</td>\n",
       "      <td>NaN</td>\n",
       "      <td>100000000000000000</td>\n",
       "      <td>Ether</td>\n",
       "      <td>4119.5</td>\n",
       "      <td>0</td>\n",
       "      <td>0x057dc43af6187a931e78a56b3293912a5b42e5ec</td>\n",
       "      <td>hagoromo</td>\n",
       "      <td>0xff60e23eb04b76c699e3d180617c3245cbcafd78</td>\n",
       "      <td>Uncategorized</td>\n",
       "    </tr>\n",
       "    <tr>\n",
       "      <th>3</th>\n",
       "      <td>2019-01-03 06:31:46</td>\n",
       "      <td>7485269</td>\n",
       "      <td>0</td>\n",
       "      <td>NaN</td>\n",
       "      <td>NaN</td>\n",
       "      <td>NaN</td>\n",
       "      <td>NaN</td>\n",
       "      <td>10000000000000000</td>\n",
       "      <td>Ether</td>\n",
       "      <td>4119.5</td>\n",
       "      <td>0</td>\n",
       "      <td>0x112ab3e7440b6e6b5c0fe0245579755dd78285b3</td>\n",
       "      <td>NaN</td>\n",
       "      <td>0xa58d0065cb381c80db1487e09ec803cd26a26264</td>\n",
       "      <td>Uncategorized</td>\n",
       "    </tr>\n",
       "    <tr>\n",
       "      <th>4</th>\n",
       "      <td>2019-01-03 10:31:43</td>\n",
       "      <td>7487454</td>\n",
       "      <td>0</td>\n",
       "      <td>NaN</td>\n",
       "      <td>NaN</td>\n",
       "      <td>NaN</td>\n",
       "      <td>NaN</td>\n",
       "      <td>249580457577544250</td>\n",
       "      <td>Ether</td>\n",
       "      <td>4119.5</td>\n",
       "      <td>0</td>\n",
       "      <td>0x889463ce0946ec870c6e9a5a42a0e85c6d1a20fd</td>\n",
       "      <td>OffTheBlockChainAxies</td>\n",
       "      <td>0x445ba6f9f553872fa9cdc14f5c0639365b39c140</td>\n",
       "      <td>Uncategorized</td>\n",
       "    </tr>\n",
       "  </tbody>\n",
       "</table>\n",
       "</div>"
      ],
      "text/plain": [
       "       sales_datetime       id  asset.id asset.name asset.collection.name  \\\n",
       "0 2019-01-01 15:48:57  7453402         0        NaN                   NaN   \n",
       "1 2019-01-01 23:50:55  7461241         0        NaN                   NaN   \n",
       "2 2019-01-02 16:44:58  7471818         0        NaN                   NaN   \n",
       "3 2019-01-03 06:31:46  7485269         0        NaN                   NaN   \n",
       "4 2019-01-03 10:31:43  7487454         0        NaN                   NaN   \n",
       "\n",
       "  asset.collection.short_description asset.permalink         total_price  \\\n",
       "0                                NaN             NaN  150000000000000000   \n",
       "1                                NaN             NaN  120000000000000000   \n",
       "2                                NaN             NaN  100000000000000000   \n",
       "3                                NaN             NaN   10000000000000000   \n",
       "4                                NaN             NaN  249580457577544250   \n",
       "\n",
       "  payment_token.name  payment_token.usd_price  asset.num_sales  \\\n",
       "0              Ether                   4119.5                0   \n",
       "1              Ether                   4119.5                0   \n",
       "2              Ether                   4119.5                0   \n",
       "3              Ether                   4119.5                0   \n",
       "4              Ether                   4119.5                0   \n",
       "\n",
       "                               seller.address   seller.user.username  \\\n",
       "0  0xf8856124ea157d6f26472e38224ee6744ad13af3               Farm4Ace   \n",
       "1  0xf29db2342a9dcb1bba4f7f2b1029bdd8ae5c0668                    NaN   \n",
       "2  0x057dc43af6187a931e78a56b3293912a5b42e5ec               hagoromo   \n",
       "3  0x112ab3e7440b6e6b5c0fe0245579755dd78285b3                    NaN   \n",
       "4  0x889463ce0946ec870c6e9a5a42a0e85c6d1a20fd  OffTheBlockChainAxies   \n",
       "\n",
       "                       winner_account.address       Category  \n",
       "0  0x7ebc7e83cb2b43deafa82eb0ae8b5daea3fe9a13  Uncategorized  \n",
       "1  0x8691271d453022a447320ed82bcb2a30ba949d03  Uncategorized  \n",
       "2  0xff60e23eb04b76c699e3d180617c3245cbcafd78  Uncategorized  \n",
       "3  0xa58d0065cb381c80db1487e09ec803cd26a26264  Uncategorized  \n",
       "4  0x445ba6f9f553872fa9cdc14f5c0639365b39c140  Uncategorized  "
      ]
     },
     "execution_count": 40,
     "metadata": {},
     "output_type": "execute_result"
    }
   ],
   "source": [
    "nft = pd.read_csv(\"data_transformation/nft_transactions_2019_2021.csv\", parse_dates=[\"sales_datetime\"])\n",
    "print(nft.shape)\n",
    "nft.head()"
   ]
  },
  {
   "cell_type": "code",
   "execution_count": 41,
   "metadata": {},
   "outputs": [
    {
     "data": {
      "text/plain": [
       "sales_datetime                  0\n",
       "id                              0\n",
       "asset.id                        0\n",
       "asset.name                 305787\n",
       "asset.collection.name       48785\n",
       "total_price                     0\n",
       "payment_token.name           1164\n",
       "payment_token.usd_price      3795\n",
       "asset.num_sales                 0\n",
       "seller.address                  0\n",
       "seller.user.username       584833\n",
       "winner_account.address          0\n",
       "Category                        0\n",
       "dtype: int64"
      ]
     },
     "execution_count": 41,
     "metadata": {},
     "output_type": "execute_result"
    }
   ],
   "source": [
    "nft.drop([\"asset.collection.short_description\", \"asset.permalink\"], axis=1, inplace=True) # useless features\n",
    "nft.isna().sum()"
   ]
  },
  {
   "cell_type": "code",
   "execution_count": 42,
   "metadata": {},
   "outputs": [
    {
     "data": {
      "text/html": [
       "<div>\n",
       "<style scoped>\n",
       "    .dataframe tbody tr th:only-of-type {\n",
       "        vertical-align: middle;\n",
       "    }\n",
       "\n",
       "    .dataframe tbody tr th {\n",
       "        vertical-align: top;\n",
       "    }\n",
       "\n",
       "    .dataframe thead th {\n",
       "        text-align: right;\n",
       "    }\n",
       "</style>\n",
       "<table border=\"1\" class=\"dataframe\">\n",
       "  <thead>\n",
       "    <tr style=\"text-align: right;\">\n",
       "      <th></th>\n",
       "      <th>sales_datetime</th>\n",
       "      <th>id</th>\n",
       "      <th>asset.id</th>\n",
       "      <th>asset.name</th>\n",
       "      <th>asset.collection.name</th>\n",
       "      <th>total_price</th>\n",
       "      <th>payment_token.name</th>\n",
       "      <th>payment_token.usd_price</th>\n",
       "      <th>asset.num_sales</th>\n",
       "      <th>seller.address</th>\n",
       "      <th>seller.user.username</th>\n",
       "      <th>winner_account.address</th>\n",
       "      <th>Category</th>\n",
       "    </tr>\n",
       "  </thead>\n",
       "  <tbody>\n",
       "    <tr>\n",
       "      <th>0</th>\n",
       "      <td>2019-01-01 15:48:57</td>\n",
       "      <td>7453402</td>\n",
       "      <td>0</td>\n",
       "      <td>NaN</td>\n",
       "      <td>NaN</td>\n",
       "      <td>150000000000000000</td>\n",
       "      <td>Ether</td>\n",
       "      <td>4119.5</td>\n",
       "      <td>0</td>\n",
       "      <td>0xf8856124ea157d6f26472e38224ee6744ad13af3</td>\n",
       "      <td>Farm4Ace</td>\n",
       "      <td>0x7ebc7e83cb2b43deafa82eb0ae8b5daea3fe9a13</td>\n",
       "      <td>Uncategorized</td>\n",
       "    </tr>\n",
       "    <tr>\n",
       "      <th>1</th>\n",
       "      <td>2019-01-01 23:50:55</td>\n",
       "      <td>7461241</td>\n",
       "      <td>0</td>\n",
       "      <td>NaN</td>\n",
       "      <td>NaN</td>\n",
       "      <td>120000000000000000</td>\n",
       "      <td>Ether</td>\n",
       "      <td>4119.5</td>\n",
       "      <td>0</td>\n",
       "      <td>0xf29db2342a9dcb1bba4f7f2b1029bdd8ae5c0668</td>\n",
       "      <td>NaN</td>\n",
       "      <td>0x8691271d453022a447320ed82bcb2a30ba949d03</td>\n",
       "      <td>Uncategorized</td>\n",
       "    </tr>\n",
       "    <tr>\n",
       "      <th>2</th>\n",
       "      <td>2019-01-02 16:44:58</td>\n",
       "      <td>7471818</td>\n",
       "      <td>0</td>\n",
       "      <td>NaN</td>\n",
       "      <td>NaN</td>\n",
       "      <td>100000000000000000</td>\n",
       "      <td>Ether</td>\n",
       "      <td>4119.5</td>\n",
       "      <td>0</td>\n",
       "      <td>0x057dc43af6187a931e78a56b3293912a5b42e5ec</td>\n",
       "      <td>hagoromo</td>\n",
       "      <td>0xff60e23eb04b76c699e3d180617c3245cbcafd78</td>\n",
       "      <td>Uncategorized</td>\n",
       "    </tr>\n",
       "    <tr>\n",
       "      <th>3</th>\n",
       "      <td>2019-01-03 06:31:46</td>\n",
       "      <td>7485269</td>\n",
       "      <td>0</td>\n",
       "      <td>NaN</td>\n",
       "      <td>NaN</td>\n",
       "      <td>10000000000000000</td>\n",
       "      <td>Ether</td>\n",
       "      <td>4119.5</td>\n",
       "      <td>0</td>\n",
       "      <td>0x112ab3e7440b6e6b5c0fe0245579755dd78285b3</td>\n",
       "      <td>NaN</td>\n",
       "      <td>0xa58d0065cb381c80db1487e09ec803cd26a26264</td>\n",
       "      <td>Uncategorized</td>\n",
       "    </tr>\n",
       "    <tr>\n",
       "      <th>4</th>\n",
       "      <td>2019-01-03 10:31:43</td>\n",
       "      <td>7487454</td>\n",
       "      <td>0</td>\n",
       "      <td>NaN</td>\n",
       "      <td>NaN</td>\n",
       "      <td>249580457577544250</td>\n",
       "      <td>Ether</td>\n",
       "      <td>4119.5</td>\n",
       "      <td>0</td>\n",
       "      <td>0x889463ce0946ec870c6e9a5a42a0e85c6d1a20fd</td>\n",
       "      <td>OffTheBlockChainAxies</td>\n",
       "      <td>0x445ba6f9f553872fa9cdc14f5c0639365b39c140</td>\n",
       "      <td>Uncategorized</td>\n",
       "    </tr>\n",
       "  </tbody>\n",
       "</table>\n",
       "</div>"
      ],
      "text/plain": [
       "       sales_datetime       id  asset.id asset.name asset.collection.name  \\\n",
       "0 2019-01-01 15:48:57  7453402         0        NaN                   NaN   \n",
       "1 2019-01-01 23:50:55  7461241         0        NaN                   NaN   \n",
       "2 2019-01-02 16:44:58  7471818         0        NaN                   NaN   \n",
       "3 2019-01-03 06:31:46  7485269         0        NaN                   NaN   \n",
       "4 2019-01-03 10:31:43  7487454         0        NaN                   NaN   \n",
       "\n",
       "          total_price payment_token.name  payment_token.usd_price  \\\n",
       "0  150000000000000000              Ether                   4119.5   \n",
       "1  120000000000000000              Ether                   4119.5   \n",
       "2  100000000000000000              Ether                   4119.5   \n",
       "3   10000000000000000              Ether                   4119.5   \n",
       "4  249580457577544250              Ether                   4119.5   \n",
       "\n",
       "   asset.num_sales                              seller.address  \\\n",
       "0                0  0xf8856124ea157d6f26472e38224ee6744ad13af3   \n",
       "1                0  0xf29db2342a9dcb1bba4f7f2b1029bdd8ae5c0668   \n",
       "2                0  0x057dc43af6187a931e78a56b3293912a5b42e5ec   \n",
       "3                0  0x112ab3e7440b6e6b5c0fe0245579755dd78285b3   \n",
       "4                0  0x889463ce0946ec870c6e9a5a42a0e85c6d1a20fd   \n",
       "\n",
       "    seller.user.username                      winner_account.address  \\\n",
       "0               Farm4Ace  0x7ebc7e83cb2b43deafa82eb0ae8b5daea3fe9a13   \n",
       "1                    NaN  0x8691271d453022a447320ed82bcb2a30ba949d03   \n",
       "2               hagoromo  0xff60e23eb04b76c699e3d180617c3245cbcafd78   \n",
       "3                    NaN  0xa58d0065cb381c80db1487e09ec803cd26a26264   \n",
       "4  OffTheBlockChainAxies  0x445ba6f9f553872fa9cdc14f5c0639365b39c140   \n",
       "\n",
       "        Category  \n",
       "0  Uncategorized  \n",
       "1  Uncategorized  \n",
       "2  Uncategorized  \n",
       "3  Uncategorized  \n",
       "4  Uncategorized  "
      ]
     },
     "execution_count": 42,
     "metadata": {},
     "output_type": "execute_result"
    }
   ],
   "source": [
    "nft.head()"
   ]
  },
  {
   "cell_type": "markdown",
   "metadata": {},
   "source": [
    "* Each row consists of a transaction of an NFT asset"
   ]
  },
  {
   "cell_type": "code",
   "execution_count": 43,
   "metadata": {},
   "outputs": [
    {
     "data": {
      "text/plain": [
       "(5252254,)"
      ]
     },
     "execution_count": 43,
     "metadata": {},
     "output_type": "execute_result"
    }
   ],
   "source": [
    "nft[\"id\"].unique().shape"
   ]
  },
  {
   "cell_type": "markdown",
   "metadata": {},
   "source": [
    "* Each asset is part of a collection"
   ]
  },
  {
   "cell_type": "code",
   "execution_count": 44,
   "metadata": {},
   "outputs": [
    {
     "data": {
      "text/plain": [
       "(51423,)"
      ]
     },
     "execution_count": 44,
     "metadata": {},
     "output_type": "execute_result"
    }
   ],
   "source": [
    "nft[\"asset.collection.name\"].unique().shape"
   ]
  },
  {
   "cell_type": "markdown",
   "metadata": {},
   "source": [
    "* And also part of a greater category"
   ]
  },
  {
   "cell_type": "code",
   "execution_count": 45,
   "metadata": {},
   "outputs": [
    {
     "name": "stdout",
     "output_type": "stream",
     "text": [
      "(10,)\n"
     ]
    },
    {
     "data": {
      "text/plain": [
       "Category\n",
       "Collectibles      2904079\n",
       "Art               1145826\n",
       "Uncategorized      513537\n",
       "Virtual Worlds     282409\n",
       "Utility            252446\n",
       "Trading Cards       84564\n",
       "Sports              25928\n",
       "Domain              16687\n",
       "Music               15279\n",
       "Photography         11499\n",
       "Name: count, dtype: int64"
      ]
     },
     "execution_count": 45,
     "metadata": {},
     "output_type": "execute_result"
    }
   ],
   "source": [
    "print(nft[\"Category\"].unique().shape)\n",
    "nft[\"Category\"].value_counts()"
   ]
  },
  {
   "cell_type": "code",
   "execution_count": 46,
   "metadata": {},
   "outputs": [
    {
     "data": {
      "text/html": [
       "<div>\n",
       "<style scoped>\n",
       "    .dataframe tbody tr th:only-of-type {\n",
       "        vertical-align: middle;\n",
       "    }\n",
       "\n",
       "    .dataframe tbody tr th {\n",
       "        vertical-align: top;\n",
       "    }\n",
       "\n",
       "    .dataframe thead th {\n",
       "        text-align: right;\n",
       "    }\n",
       "</style>\n",
       "<table border=\"1\" class=\"dataframe\">\n",
       "  <thead>\n",
       "    <tr style=\"text-align: right;\">\n",
       "      <th></th>\n",
       "      <th>sales_datetime</th>\n",
       "      <th>id</th>\n",
       "      <th>asset.id</th>\n",
       "      <th>asset.name</th>\n",
       "      <th>asset.collection.name</th>\n",
       "      <th>total_price</th>\n",
       "      <th>payment_token.name</th>\n",
       "      <th>payment_token.usd_price</th>\n",
       "      <th>asset.num_sales</th>\n",
       "      <th>seller.address</th>\n",
       "      <th>seller.user.username</th>\n",
       "      <th>winner_account.address</th>\n",
       "      <th>Category</th>\n",
       "    </tr>\n",
       "  </thead>\n",
       "  <tbody>\n",
       "    <tr>\n",
       "      <th>0</th>\n",
       "      <td>2019-01-01 15:48:57</td>\n",
       "      <td>7453402</td>\n",
       "      <td>0</td>\n",
       "      <td>NaN</td>\n",
       "      <td>NaN</td>\n",
       "      <td>150000000000000000</td>\n",
       "      <td>Ether</td>\n",
       "      <td>4119.5</td>\n",
       "      <td>0</td>\n",
       "      <td>0xf8856124ea157d6f26472e38224ee6744ad13af3</td>\n",
       "      <td>Farm4Ace</td>\n",
       "      <td>0x7ebc7e83cb2b43deafa82eb0ae8b5daea3fe9a13</td>\n",
       "      <td>Uncategorized</td>\n",
       "    </tr>\n",
       "    <tr>\n",
       "      <th>1</th>\n",
       "      <td>2019-01-01 23:50:55</td>\n",
       "      <td>7461241</td>\n",
       "      <td>0</td>\n",
       "      <td>NaN</td>\n",
       "      <td>NaN</td>\n",
       "      <td>120000000000000000</td>\n",
       "      <td>Ether</td>\n",
       "      <td>4119.5</td>\n",
       "      <td>0</td>\n",
       "      <td>0xf29db2342a9dcb1bba4f7f2b1029bdd8ae5c0668</td>\n",
       "      <td>NaN</td>\n",
       "      <td>0x8691271d453022a447320ed82bcb2a30ba949d03</td>\n",
       "      <td>Uncategorized</td>\n",
       "    </tr>\n",
       "    <tr>\n",
       "      <th>2</th>\n",
       "      <td>2019-01-02 16:44:58</td>\n",
       "      <td>7471818</td>\n",
       "      <td>0</td>\n",
       "      <td>NaN</td>\n",
       "      <td>NaN</td>\n",
       "      <td>100000000000000000</td>\n",
       "      <td>Ether</td>\n",
       "      <td>4119.5</td>\n",
       "      <td>0</td>\n",
       "      <td>0x057dc43af6187a931e78a56b3293912a5b42e5ec</td>\n",
       "      <td>hagoromo</td>\n",
       "      <td>0xff60e23eb04b76c699e3d180617c3245cbcafd78</td>\n",
       "      <td>Uncategorized</td>\n",
       "    </tr>\n",
       "    <tr>\n",
       "      <th>3</th>\n",
       "      <td>2019-01-03 06:31:46</td>\n",
       "      <td>7485269</td>\n",
       "      <td>0</td>\n",
       "      <td>NaN</td>\n",
       "      <td>NaN</td>\n",
       "      <td>10000000000000000</td>\n",
       "      <td>Ether</td>\n",
       "      <td>4119.5</td>\n",
       "      <td>0</td>\n",
       "      <td>0x112ab3e7440b6e6b5c0fe0245579755dd78285b3</td>\n",
       "      <td>NaN</td>\n",
       "      <td>0xa58d0065cb381c80db1487e09ec803cd26a26264</td>\n",
       "      <td>Uncategorized</td>\n",
       "    </tr>\n",
       "    <tr>\n",
       "      <th>4</th>\n",
       "      <td>2019-01-03 10:31:43</td>\n",
       "      <td>7487454</td>\n",
       "      <td>0</td>\n",
       "      <td>NaN</td>\n",
       "      <td>NaN</td>\n",
       "      <td>249580457577544250</td>\n",
       "      <td>Ether</td>\n",
       "      <td>4119.5</td>\n",
       "      <td>0</td>\n",
       "      <td>0x889463ce0946ec870c6e9a5a42a0e85c6d1a20fd</td>\n",
       "      <td>OffTheBlockChainAxies</td>\n",
       "      <td>0x445ba6f9f553872fa9cdc14f5c0639365b39c140</td>\n",
       "      <td>Uncategorized</td>\n",
       "    </tr>\n",
       "  </tbody>\n",
       "</table>\n",
       "</div>"
      ],
      "text/plain": [
       "       sales_datetime       id  asset.id asset.name asset.collection.name  \\\n",
       "0 2019-01-01 15:48:57  7453402         0        NaN                   NaN   \n",
       "1 2019-01-01 23:50:55  7461241         0        NaN                   NaN   \n",
       "2 2019-01-02 16:44:58  7471818         0        NaN                   NaN   \n",
       "3 2019-01-03 06:31:46  7485269         0        NaN                   NaN   \n",
       "4 2019-01-03 10:31:43  7487454         0        NaN                   NaN   \n",
       "\n",
       "          total_price payment_token.name  payment_token.usd_price  \\\n",
       "0  150000000000000000              Ether                   4119.5   \n",
       "1  120000000000000000              Ether                   4119.5   \n",
       "2  100000000000000000              Ether                   4119.5   \n",
       "3   10000000000000000              Ether                   4119.5   \n",
       "4  249580457577544250              Ether                   4119.5   \n",
       "\n",
       "   asset.num_sales                              seller.address  \\\n",
       "0                0  0xf8856124ea157d6f26472e38224ee6744ad13af3   \n",
       "1                0  0xf29db2342a9dcb1bba4f7f2b1029bdd8ae5c0668   \n",
       "2                0  0x057dc43af6187a931e78a56b3293912a5b42e5ec   \n",
       "3                0  0x112ab3e7440b6e6b5c0fe0245579755dd78285b3   \n",
       "4                0  0x889463ce0946ec870c6e9a5a42a0e85c6d1a20fd   \n",
       "\n",
       "    seller.user.username                      winner_account.address  \\\n",
       "0               Farm4Ace  0x7ebc7e83cb2b43deafa82eb0ae8b5daea3fe9a13   \n",
       "1                    NaN  0x8691271d453022a447320ed82bcb2a30ba949d03   \n",
       "2               hagoromo  0xff60e23eb04b76c699e3d180617c3245cbcafd78   \n",
       "3                    NaN  0xa58d0065cb381c80db1487e09ec803cd26a26264   \n",
       "4  OffTheBlockChainAxies  0x445ba6f9f553872fa9cdc14f5c0639365b39c140   \n",
       "\n",
       "        Category  \n",
       "0  Uncategorized  \n",
       "1  Uncategorized  \n",
       "2  Uncategorized  \n",
       "3  Uncategorized  \n",
       "4  Uncategorized  "
      ]
     },
     "execution_count": 46,
     "metadata": {},
     "output_type": "execute_result"
    }
   ],
   "source": [
    "nft.head()"
   ]
  },
  {
   "cell_type": "markdown",
   "metadata": {},
   "source": [
    "* Users share addresses?"
   ]
  },
  {
   "cell_type": "code",
   "execution_count": 47,
   "metadata": {},
   "outputs": [
    {
     "data": {
      "text/plain": [
       "(242258,)"
      ]
     },
     "execution_count": 47,
     "metadata": {},
     "output_type": "execute_result"
    }
   ],
   "source": [
    "nft[\"seller.user.username\"].unique().shape"
   ]
  },
  {
   "cell_type": "code",
   "execution_count": 48,
   "metadata": {},
   "outputs": [
    {
     "data": {
      "text/plain": [
       "(314417,)"
      ]
     },
     "execution_count": 48,
     "metadata": {},
     "output_type": "execute_result"
    }
   ],
   "source": [
    "nft[\"seller.address\"].unique().shape"
   ]
  },
  {
   "cell_type": "markdown",
   "metadata": {},
   "source": [
    "* What about our unique buyers?"
   ]
  },
  {
   "cell_type": "code",
   "execution_count": 49,
   "metadata": {},
   "outputs": [
    {
     "data": {
      "text/plain": [
       "(617332,)"
      ]
     },
     "execution_count": 49,
     "metadata": {},
     "output_type": "execute_result"
    }
   ],
   "source": [
    "nft[\"winner_account.address\"].unique().shape"
   ]
  },
  {
   "cell_type": "markdown",
   "metadata": {},
   "source": [
    "* It looks like several renames have been done on collections, making it look like each asset has multiple collections"
   ]
  },
  {
   "cell_type": "markdown",
   "metadata": {},
   "source": [
    "* We will keep the most recent name of each collection"
   ]
  },
  {
   "cell_type": "code",
   "execution_count": 50,
   "metadata": {},
   "outputs": [],
   "source": [
    "# check whether any asset has multiple recorded collections (been part of)\n",
    "# Run with caution, takes some time\n",
    "\n",
    "# for asset in nft[\"asset_id\"]:\n",
    "#     collections = nft.loc[nft[\"asset_id\"] == asset][\"collection_name\"]\n",
    "#     unqi = collections.drop_duplicates()\n",
    "#     if unqi.shape[0] > 1:\n",
    "#         print(f\"asset {asset} has multiple collections: {unqi}\")"
   ]
  },
  {
   "cell_type": "code",
   "execution_count": 51,
   "metadata": {},
   "outputs": [],
   "source": [
    "# check whether any asset has multiple names recorded\n",
    "# Run with caution, takes some time\n",
    "\n",
    "# for asset in nft[\"asset_id\"]:\n",
    "#     names = nft.loc[nft[\"asset_id\"] == asset][\"asset_name\"]\n",
    "#     unqi = names.drop_duplicates()\n",
    "#     if unqi.shape[0] > 1:\n",
    "#         print(f\"asset {asset} has multiple names: {unqi}\")"
   ]
  }
 ],
 "metadata": {
  "kernelspec": {
   "display_name": "Python 3",
   "language": "python",
   "name": "python3"
  },
  "language_info": {
   "codemirror_mode": {
    "name": "ipython",
    "version": 3
   },
   "file_extension": ".py",
   "mimetype": "text/x-python",
   "name": "python",
   "nbconvert_exporter": "python",
   "pygments_lexer": "ipython3",
   "version": "3.10.9"
  }
 },
 "nbformat": 4,
 "nbformat_minor": 2
}
