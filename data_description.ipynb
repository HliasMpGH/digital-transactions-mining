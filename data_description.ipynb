{
 "cells": [
  {
   "cell_type": "code",
   "execution_count": 2,
   "metadata": {},
   "outputs": [],
   "source": [
    "import pandas as pd"
   ]
  },
  {
   "cell_type": "code",
   "execution_count": 3,
   "metadata": {},
   "outputs": [
    {
     "name": "stderr",
     "output_type": "stream",
     "text": [
      "C:\\Users\\ilias\\AppData\\Local\\Temp\\ipykernel_15840\\3959075410.py:1: DtypeWarning: Columns (5) have mixed types. Specify dtype option on import or set low_memory=False.\n",
      "  nft = pd.read_csv(\"OpenSea_NFT_Sales_2019_2021.csv\")\n"
     ]
    }
   ],
   "source": [
    "nft = pd.read_csv(\"OpenSea_NFT_Sales_2019_2021.csv\")\n",
    "print(nft.shape)\n",
    "nft.head()"
   ]
  },
  {
   "cell_type": "code",
   "execution_count": null,
   "metadata": {},
   "outputs": [
    {
     "data": {
      "text/plain": [
       "sales_datetime                  0\n",
       "id                              0\n",
       "asset.id                        0\n",
       "asset.name                 305787\n",
       "asset.collection.name       48785\n",
       "total_price                     0\n",
       "payment_token.name           1164\n",
       "payment_token.usd_price      3795\n",
       "asset.num_sales                 0\n",
       "seller.address                  0\n",
       "seller.user.username       584833\n",
       "winner_account.address          0\n",
       "Category                        0\n",
       "dtype: int64"
      ]
     },
     "execution_count": 12,
     "metadata": {},
     "output_type": "execute_result"
    }
   ],
   "source": [
    "nft.drop([\"asset.collection.short_description\", \"asset.permalink\"], axis=1, inplace=True) # useless features\n",
    "nft.isna().sum()"
   ]
  },
  {
   "cell_type": "code",
   "execution_count": 13,
   "metadata": {},
   "outputs": [],
   "source": [
    "nft.dropna(inplace=True)"
   ]
  },
  {
   "cell_type": "code",
   "execution_count": 23,
   "metadata": {},
   "outputs": [
    {
     "data": {
      "text/html": [
       "<div>\n",
       "<style scoped>\n",
       "    .dataframe tbody tr th:only-of-type {\n",
       "        vertical-align: middle;\n",
       "    }\n",
       "\n",
       "    .dataframe tbody tr th {\n",
       "        vertical-align: top;\n",
       "    }\n",
       "\n",
       "    .dataframe thead th {\n",
       "        text-align: right;\n",
       "    }\n",
       "</style>\n",
       "<table border=\"1\" class=\"dataframe\">\n",
       "  <thead>\n",
       "    <tr style=\"text-align: right;\">\n",
       "      <th></th>\n",
       "      <th>sales_datetime</th>\n",
       "      <th>id</th>\n",
       "      <th>asset.id</th>\n",
       "      <th>asset.name</th>\n",
       "      <th>asset.collection.name</th>\n",
       "      <th>total_price</th>\n",
       "      <th>payment_token.name</th>\n",
       "      <th>payment_token.usd_price</th>\n",
       "      <th>asset.num_sales</th>\n",
       "      <th>seller.address</th>\n",
       "      <th>seller.user.username</th>\n",
       "      <th>winner_account.address</th>\n",
       "      <th>Category</th>\n",
       "    </tr>\n",
       "  </thead>\n",
       "  <tbody>\n",
       "    <tr>\n",
       "      <th>48785</th>\n",
       "      <td>2021-08-12 08:20:14</td>\n",
       "      <td>490127224</td>\n",
       "      <td>36309701</td>\n",
       "      <td>DEAD -01</td>\n",
       "      <td>! DEAD !</td>\n",
       "      <td>5000000000000000</td>\n",
       "      <td>Ether</td>\n",
       "      <td>3732.31</td>\n",
       "      <td>1</td>\n",
       "      <td>0xd42b0f0b9c93f826281c45b3dab34e1827312274</td>\n",
       "      <td>DEADCLUB</td>\n",
       "      <td>0x64cd629e020dc1131bd18b7a80c0656341d89038</td>\n",
       "      <td>Uncategorized</td>\n",
       "    </tr>\n",
       "    <tr>\n",
       "      <th>48786</th>\n",
       "      <td>2021-08-12 19:47:55</td>\n",
       "      <td>495251447</td>\n",
       "      <td>36330253</td>\n",
       "      <td>DEAD -07</td>\n",
       "      <td>! DEAD !</td>\n",
       "      <td>5000000000000000</td>\n",
       "      <td>Ether</td>\n",
       "      <td>3732.31</td>\n",
       "      <td>2</td>\n",
       "      <td>0xd42b0f0b9c93f826281c45b3dab34e1827312274</td>\n",
       "      <td>DEADCLUB</td>\n",
       "      <td>0x5eb3f21ef75dbfd5f8e2b2fcfad88c9497c94720</td>\n",
       "      <td>Uncategorized</td>\n",
       "    </tr>\n",
       "    <tr>\n",
       "      <th>48787</th>\n",
       "      <td>2021-08-14 03:56:11</td>\n",
       "      <td>507555211</td>\n",
       "      <td>36781130</td>\n",
       "      <td>DEAD -13</td>\n",
       "      <td>! DEAD !</td>\n",
       "      <td>5000000000000000</td>\n",
       "      <td>Ether</td>\n",
       "      <td>3732.31</td>\n",
       "      <td>1</td>\n",
       "      <td>0xd42b0f0b9c93f826281c45b3dab34e1827312274</td>\n",
       "      <td>DEADCLUB</td>\n",
       "      <td>0xae06997625b4afbf88d537d1d416c8e1de27aac3</td>\n",
       "      <td>Uncategorized</td>\n",
       "    </tr>\n",
       "    <tr>\n",
       "      <th>48788</th>\n",
       "      <td>2021-08-14 12:37:30</td>\n",
       "      <td>512864663</td>\n",
       "      <td>36566965</td>\n",
       "      <td>DEAD -11</td>\n",
       "      <td>! DEAD !</td>\n",
       "      <td>5000000000000000</td>\n",
       "      <td>Ether</td>\n",
       "      <td>3732.31</td>\n",
       "      <td>1</td>\n",
       "      <td>0xd42b0f0b9c93f826281c45b3dab34e1827312274</td>\n",
       "      <td>DEADCLUB</td>\n",
       "      <td>0x1d4bfeeae08be4069145460f8f765fdb6332bc90</td>\n",
       "      <td>Uncategorized</td>\n",
       "    </tr>\n",
       "    <tr>\n",
       "      <th>48789</th>\n",
       "      <td>2021-08-16 13:59:35</td>\n",
       "      <td>542059922</td>\n",
       "      <td>36315005</td>\n",
       "      <td>DEAD -03</td>\n",
       "      <td>! DEAD !</td>\n",
       "      <td>5000000000000000</td>\n",
       "      <td>Ether</td>\n",
       "      <td>3732.09</td>\n",
       "      <td>1</td>\n",
       "      <td>0xd42b0f0b9c93f826281c45b3dab34e1827312274</td>\n",
       "      <td>DEADCLUB</td>\n",
       "      <td>0xf2adc5447d48a456079ec2cdc13e25b0b43d5e04</td>\n",
       "      <td>Uncategorized</td>\n",
       "    </tr>\n",
       "  </tbody>\n",
       "</table>\n",
       "</div>"
      ],
      "text/plain": [
       "            sales_datetime         id  asset.id asset.name  \\\n",
       "48785  2021-08-12 08:20:14  490127224  36309701   DEAD -01   \n",
       "48786  2021-08-12 19:47:55  495251447  36330253   DEAD -07   \n",
       "48787  2021-08-14 03:56:11  507555211  36781130   DEAD -13   \n",
       "48788  2021-08-14 12:37:30  512864663  36566965   DEAD -11   \n",
       "48789  2021-08-16 13:59:35  542059922  36315005   DEAD -03   \n",
       "\n",
       "      asset.collection.name       total_price payment_token.name  \\\n",
       "48785              ! DEAD !  5000000000000000              Ether   \n",
       "48786              ! DEAD !  5000000000000000              Ether   \n",
       "48787              ! DEAD !  5000000000000000              Ether   \n",
       "48788              ! DEAD !  5000000000000000              Ether   \n",
       "48789              ! DEAD !  5000000000000000              Ether   \n",
       "\n",
       "       payment_token.usd_price  asset.num_sales  \\\n",
       "48785                  3732.31                1   \n",
       "48786                  3732.31                2   \n",
       "48787                  3732.31                1   \n",
       "48788                  3732.31                1   \n",
       "48789                  3732.09                1   \n",
       "\n",
       "                                   seller.address seller.user.username  \\\n",
       "48785  0xd42b0f0b9c93f826281c45b3dab34e1827312274             DEADCLUB   \n",
       "48786  0xd42b0f0b9c93f826281c45b3dab34e1827312274             DEADCLUB   \n",
       "48787  0xd42b0f0b9c93f826281c45b3dab34e1827312274             DEADCLUB   \n",
       "48788  0xd42b0f0b9c93f826281c45b3dab34e1827312274             DEADCLUB   \n",
       "48789  0xd42b0f0b9c93f826281c45b3dab34e1827312274             DEADCLUB   \n",
       "\n",
       "                           winner_account.address       Category  \n",
       "48785  0x64cd629e020dc1131bd18b7a80c0656341d89038  Uncategorized  \n",
       "48786  0x5eb3f21ef75dbfd5f8e2b2fcfad88c9497c94720  Uncategorized  \n",
       "48787  0xae06997625b4afbf88d537d1d416c8e1de27aac3  Uncategorized  \n",
       "48788  0x1d4bfeeae08be4069145460f8f765fdb6332bc90  Uncategorized  \n",
       "48789  0xf2adc5447d48a456079ec2cdc13e25b0b43d5e04  Uncategorized  "
      ]
     },
     "execution_count": 23,
     "metadata": {},
     "output_type": "execute_result"
    }
   ],
   "source": [
    "nft.head()"
   ]
  },
  {
   "cell_type": "markdown",
   "metadata": {},
   "source": [
    "* Each row consists of a transaction of an NFT asset"
   ]
  },
  {
   "cell_type": "code",
   "execution_count": 22,
   "metadata": {},
   "outputs": [
    {
     "data": {
      "text/plain": [
       "(4390304,)"
      ]
     },
     "execution_count": 22,
     "metadata": {},
     "output_type": "execute_result"
    }
   ],
   "source": [
    "nft[\"id\"].unique().shape"
   ]
  },
  {
   "cell_type": "markdown",
   "metadata": {},
   "source": [
    "* Each asset is part of a collection"
   ]
  },
  {
   "cell_type": "code",
   "execution_count": 25,
   "metadata": {},
   "outputs": [
    {
     "data": {
      "text/plain": [
       "(48846,)"
      ]
     },
     "execution_count": 25,
     "metadata": {},
     "output_type": "execute_result"
    }
   ],
   "source": [
    "nft[\"asset.collection.name\"].unique().shape"
   ]
  },
  {
   "cell_type": "markdown",
   "metadata": {},
   "source": [
    "* And also part of a greater category"
   ]
  },
  {
   "cell_type": "code",
   "execution_count": 28,
   "metadata": {},
   "outputs": [
    {
     "name": "stdout",
     "output_type": "stream",
     "text": [
      "(10,)\n"
     ]
    },
    {
     "data": {
      "text/plain": [
       "Category\n",
       "Collectibles      2422888\n",
       "Art                955615\n",
       "Uncategorized      434395\n",
       "Virtual Worlds     236471\n",
       "Utility            208181\n",
       "Trading Cards       68097\n",
       "Sports              23252\n",
       "Domain              15714\n",
       "Music               14568\n",
       "Photography         11123\n",
       "Name: count, dtype: int64"
      ]
     },
     "execution_count": 28,
     "metadata": {},
     "output_type": "execute_result"
    }
   ],
   "source": [
    "print(nft[\"Category\"].unique().shape)\n",
    "nft[\"Category\"].value_counts()"
   ]
  }
 ],
 "metadata": {
  "kernelspec": {
   "display_name": "Python 3",
   "language": "python",
   "name": "python3"
  },
  "language_info": {
   "codemirror_mode": {
    "name": "ipython",
    "version": 3
   },
   "file_extension": ".py",
   "mimetype": "text/x-python",
   "name": "python",
   "nbconvert_exporter": "python",
   "pygments_lexer": "ipython3",
   "version": "3.10.9"
  }
 },
 "nbformat": 4,
 "nbformat_minor": 2
}
